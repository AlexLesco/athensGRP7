{
 "cells": [
  {
   "cell_type": "markdown",
   "id": "70b04fc0",
   "metadata": {},
   "source": [
    "# Rigid Body Dynamics Models"
   ]
  },
  {
   "cell_type": "markdown",
   "id": "c2080be4",
   "metadata": {},
   "source": [
    "This sub-project has as goal to develop rigid body models for vibrating doors in driving busses. In this project we assume the door to have physical dimensions such as a length, width and thickness. This is in contrast with point mass systems developed before. We thus assume the door to be a rigid bar (with a given cross-sectional aria), an interconnection of rigid bars, a (thin) plate or an interconnection of rigid bars. The door is assumed to be attached to the bus via joints. The (components of the) door are assumed to undergo a rigid body motion (translation and rotation) without deforming.    \n",
    "\n",
    "As before, we aim at: \n",
    "1. static analysis to estimate e.g. maximum displacement given a load); \n",
    "2. transient analysis to follow orbit of point mass(es) in time; \n",
    "3. eigenmode analysis to estimate dominant modes of the system; \n",
    "4. vivrational analysis subject to stochastic load;\n",
    "\n",
    "We will make use of [RigidBodyDynamics.jl](https://juliarobotics.org/RigidBodyDynamics.jl/stable/) by adapting e.g. the double pendulum example. More documentation (time integration of stiff systems of ordinary differential equations that describe the orbit of the mechanism) is provided in [paper on multibody dynamics](https://juliacon.github.io/proceedings-papers/jcon.00043/10.21105.jcon.00043.pdf). "
   ]
  },
  {
   "cell_type": "markdown",
   "id": "f57446a0",
   "metadata": {},
   "source": [
    "## Rigid Body Bar Models\n",
    "\n",
    "1. Assume bar attached at both end points to reference system. Assume bar to both translate in a plane (2 degrees of freedom) and rotate around its center of gravity (1 degree of freedom). How does bar move when subjected to external forcing? External forcing can either be impact on the door or shaking of the reference system. Derive equations of motion using Lagrangian mechanics. Solve equations of motion using suitable time integration method. Visualize computed solution for various external excitations;  \n",
    "\n",
    "2. Assume bar to be replaced by interconnection of various bar, e.g., top, middle and bottom door section. Assume three degrees of freedom (2 translational and 1 rotational) to each section. Repeat above; "
   ]
  },
  {
   "cell_type": "markdown",
   "id": "6d4ba40a",
   "metadata": {},
   "source": [
    "## Rigid Body Plate Models\n",
    "RigidBody.jl does provide function for [plate](https://docs.juliahub.com/RigidBodyTools/hU9tt/0.1.9/manual/methods/#RigidBodyTools.Plate);"
   ]
  },
  {
   "cell_type": "markdown",
   "id": "c7e3d65d",
   "metadata": {},
   "source": [
    "## References \n",
    "\n",
    "1. Lagrangian mechanics: [course notes](https://www.ecs.csun.edu/~nhuttho/me584/Chapter%203%20Mechanical%20Systems_part2.pdf)"
   ]
  },
  {
   "cell_type": "code",
   "execution_count": null,
   "id": "a6f31756",
   "metadata": {},
   "outputs": [],
   "source": []
  }
 ],
 "metadata": {
  "kernelspec": {
   "display_name": "Julia 1.6.2",
   "language": "julia",
   "name": "julia-1.6"
  },
  "language_info": {
   "file_extension": ".jl",
   "mimetype": "application/julia",
   "name": "julia",
   "version": "1.6.2"
  }
 },
 "nbformat": 4,
 "nbformat_minor": 5
}
