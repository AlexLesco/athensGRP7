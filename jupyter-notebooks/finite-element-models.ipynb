{
 "cells": [
  {
   "cell_type": "markdown",
   "metadata": {},
   "source": [
    "# Finite Element Models "
   ]
  },
  {
   "cell_type": "markdown",
   "metadata": {},
   "source": [
    "This project has the following goals: \n",
    "1. build a hierarchy of finite element models of increasing complexity; "
   ]
  },
  {
   "cell_type": "markdown",
   "metadata": {},
   "source": [
    "## Import Packages"
   ]
  },
  {
   "cell_type": "code",
   "execution_count": 1,
   "metadata": {},
   "outputs": [],
   "source": [
    "using LinearAlgebra\n",
    "using DifferentialEquations\n",
    "using SparseArrays\n",
    "using Plots\n",
    "using LaTeXStrings\n",
    "using BenchmarkTools "
   ]
  },
  {
   "cell_type": "markdown",
   "metadata": {},
   "source": [
    "## Section 1/: Introduction \n",
    "\n",
    "For geometry definition and mesh generation, see [EE4375 Course](https://github.com/ziolai/finite_element_electrical_engineering). \n"
   ]
  },
  {
   "cell_type": "markdown",
   "metadata": {},
   "source": [
    "## Section 2/: Simplified Finite Element Methods\n",
    "\n",
    "- Linear elasticity tutorial in [GridAp](https://github.com/gridap/Gridap.jl): [tutorial-3](https://gridap.github.io/Tutorials/stable/pages/t003_elasticity/#Tutorial-3:-Linear-elasticity-1) \n",
    "\n",
    "- Non-Linear Elasticity Tutorial in [GridAp](https://github.com/gridap/Gridap.jl): [tutorial-5](https://gridap.github.io/Tutorials/stable/pages/t005_hyperelasticity/)\n",
    "\n",
    "- Models previously developed by XiEngineering and how to extend them. "
   ]
  },
  {
   "cell_type": "markdown",
   "metadata": {},
   "source": [
    "## Section 3/: Detailed Finite Element Methods\n",
    "\n",
    "- Models previously developed by XiEngineering. "
   ]
  },
  {
   "cell_type": "markdown",
   "metadata": {},
   "source": [
    "## References"
   ]
  },
  {
   "cell_type": "markdown",
   "metadata": {},
   "source": []
  },
  {
   "cell_type": "code",
   "execution_count": null,
   "metadata": {},
   "outputs": [],
   "source": []
  }
 ],
 "metadata": {
  "kernelspec": {
   "display_name": "Julia 1.6.2",
   "language": "julia",
   "name": "julia-1.6"
  },
  "language_info": {
   "file_extension": ".jl",
   "mimetype": "application/julia",
   "name": "julia",
   "version": "1.6.2"
  }
 },
 "nbformat": 4,
 "nbformat_minor": 2
}
