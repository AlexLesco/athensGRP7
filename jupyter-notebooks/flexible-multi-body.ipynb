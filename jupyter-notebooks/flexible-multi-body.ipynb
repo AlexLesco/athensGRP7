{
 "cells": [
  {
   "cell_type": "markdown",
   "id": "b8f1b6b5",
   "metadata": {},
   "source": [
    "# Flexible Multi Body Models \n",
    "\n",
    "The goal of this project is to consider flexible multi body models. We assume the door to be an assembly of flexible bar (or plate) attached to the bus.\n",
    "\n",
    "As before, we aim at \n",
    "1. a static analysis; \n",
    "2. a transient ansalysis; \n",
    "3. an eigenmode analysis; \n",
    "4. a vibration analysis; "
   ]
  },
  {
   "cell_type": "markdown",
   "id": "36335520",
   "metadata": {},
   "source": [
    "## Flexible Bar Models \n",
    "\n",
    "See previous sections? "
   ]
  },
  {
   "cell_type": "markdown",
   "id": "d89c24de",
   "metadata": {},
   "source": [
    "## Flexible Plate Models \n",
    "\n",
    "Using commercial tools?"
   ]
  },
  {
   "cell_type": "markdown",
   "id": "ffacc872",
   "metadata": {},
   "source": [
    "## References \n",
    "\n",
    "References on wiki \n",
    "1. [wiki on multibody dynamics](https://en.wikipedia.org/wiki/Multibody_system)\n",
    "2. [wiki on kinematic pairs](https://en.wikipedia.org/wiki/Kinematic_pair): need to study in detail to be able to explain all the joints used in the XiEngineering module; \n",
    "3. [Book: Flexible Multiboidy Dynamics](https://link.springer.com/book/10.1007/978-94-007-0335-3): TAA Textbook Excellence Award\n",
    "\n",
    "References in Comsol Multiphysics: \n",
    "1. [COMSOL Multiphysics Users Guide - Random Vibration Analysis](https://doc.comsol.com/5.6/doc/com.comsol.help.sme/sme_ug_theory.06.46.html#3868798) \n",
    "2. [Eigenfrequency Analysis on Multiphysics Cyclopedia](https://www.comsol.com/multiphysics/eigenfrequency-analysis) "
   ]
  }
 ],
 "metadata": {
  "kernelspec": {
   "display_name": "Julia 1.6.2",
   "language": "julia",
   "name": "julia-1.6"
  },
  "language_info": {
   "file_extension": ".jl",
   "mimetype": "application/julia",
   "name": "julia",
   "version": "1.6.2"
  }
 },
 "nbformat": 4,
 "nbformat_minor": 5
}
