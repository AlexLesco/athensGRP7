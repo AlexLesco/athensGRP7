{
 "cells": [
  {
   "cell_type": "markdown",
   "id": "b8f1b6b5",
   "metadata": {},
   "source": [
    "# Flexible Single Body Models (no rigid displacements)\n",
    "\n",
    "The goal of this project is to consider flexible single body models. We assume the door to be a flexible bar (or plate) attached to the bus. We wish to take the structural properties of the door (deformation, strain and stress) into account. We assume (for simplicity) that the door is a linear (small displacement around point of equilibrium in which the door is closed) and homogeneous (constant Lame parameters or Youngs' modulus) elastic medium. We wish to compare e.g. a rigid door and flexible suspension (expect large rigid displacement of the door, recover previous cases) with a flexible door and stiff suspension (expect large deformation of the door, recover case of flexible bar attached to reference). \n",
    "\n",
    "As before, we aim at \n",
    "1. a static analysis: one is typically interested in maximal displacements and stresses. For these quantities, analytical expressions do exist for the bar [using cantilever beam example for Euler–Bernoulli beam theory](https://en.wikipedia.org/wiki/Euler–Bernoulli_beam_theory) and for the plate using the [rectangular Kirchhoff-Love plate theory](https://en.wikipedia.org/wiki/Bending_of_plates). A comparison between analytical and numerical computations in made in [this example of the GXBEAM.jl package](https://flow.byu.edu/GXBeam.jl/dev/examples/tipforce/); \n",
    "2. a transient ansalysis: In a transient analysis, some form of the wave-equation needs to be solved (vibrasting plate theory). This can be handled by DifferentialEquations.jl. \n",
    "3. an eigenmode analysis; \n",
    "4. a vibration analysis; "
   ]
  },
  {
   "cell_type": "markdown",
   "id": "5620e9ce",
   "metadata": {},
   "source": [
    "## Import Packages"
   ]
  },
  {
   "cell_type": "code",
   "execution_count": 12,
   "id": "86504036",
   "metadata": {},
   "outputs": [
    {
     "name": "stderr",
     "output_type": "stream",
     "text": [
      "WARNING: using DifferentialEquations.solve in module Main conflicts with an existing identifier.\n"
     ]
    }
   ],
   "source": [
    "using LinearAlgebra\n",
    "using DifferentialEquations\n",
    "using SparseArrays\n",
    "using Plots\n",
    "using LaTeXStrings\n",
    "using BenchmarkTools "
   ]
  },
  {
   "cell_type": "markdown",
   "id": "1cc313ec",
   "metadata": {},
   "source": [
    "## Section 1:/ Introduction \n",
    "\n",
    "### Theory \n",
    "We will use the finite element method for (non-)linear elastic media. For theory, geometry definition, mesh generation and references see [EE4375 Course](https://github.com/ziolai/finite_element_electrical_engineering). \n",
    "\n",
    "### Implementation \n",
    "\n",
    "#### Using Gridap \n",
    "\n",
    "#### Alternative Tools to use \n",
    "1. [FinEtoolsFlexBeams](https://github.com/PetrKryslUCSD/FinEtoolsFlexBeamsTutorials.jl): includes vibrational analysis and assembly of beams;  \n",
    "2. [GXBEAM](https://flow.byu.edu/GXBeam.jl/dev/): implementation of Geometrically Exact Beam Theory; includes vibrational analysis and assembly of beams; \n",
    "3. [the finite element package GridAp.jl](https://github.com/gridap/Gridap.jl) allows to describe the elastic deformation of flexible bodies."
   ]
  },
  {
   "cell_type": "markdown",
   "id": "80bafc0e",
   "metadata": {},
   "source": [
    "## Section 2:/ Flexible Bar Models "
   ]
  },
  {
   "cell_type": "code",
   "execution_count": 1,
   "id": "0c3e95f1",
   "metadata": {},
   "outputs": [
    {
     "data": {
      "text/plain": [
       "([\"solution.vtu\"],)"
      ]
     },
     "execution_count": 1,
     "metadata": {},
     "output_type": "execute_result"
    }
   ],
   "source": [
    "# this example was provided by Oriol Colomes on the #gridal Slack channel on July 31st \n",
    "#module EB_beam # Euler-Bernouilli \n",
    "using Gridap\n",
    "# model = CartesianDiscreteModel((0,1),(10))  # Domain from 0 to 1, discretized with 10 elements\n",
    "model = CartesianDiscreteModel((0,1),(100))  # Domain from 0 to 1, discretized with 10 elements\n",
    "Ω = Interior(model) # Triangulation\n",
    "Λ = Skeleton(Ω)     # Triangulation of the skeleton (interior nodes) -> used in the CG/DG approach to enforce continuity of rotations weakly\n",
    "labels = get_face_labeling(model)\n",
    "add_tag_from_tags!(labels,\"left\",[1,])  # Tag the left end node\n",
    "add_tag_from_tags!(labels,\"right\",[2,]) # Tag the right end node (assume Free Neumann BC)\n",
    "ΓD = Boundary(Ω,tags=\"left\")\n",
    "order = 1 # order = 2 # FE polynomial degree\n",
    "refFE = ReferenceFE(lagrangian,Float64,order) # Lagrangian reference FE\n",
    "V = TestFESpace(Ω,refFE,dirichlet_tags=\"left\") # FE Space with Dirichlet BC at the left node\n",
    "U = TrialFESpace(V,0.0) # Trial FE space with 0.0 deflection value at the Dirichlet BC\n",
    "EI = 5.0e5 # Rigidity\n",
    "h = 1/100   # Element size\n",
    "γ = 1.0    # penalty constant\n",
    "dΩ = Measure(Ω,2*order) # Integration measure for Ω\n",
    "dΓ = Measure(ΓD,2*order) # Integration measure for ΓD\n",
    "dΛ = Measure(Λ,2*order) # Integration measure for Λ\n",
    "nΓ = get_normal_vector(ΓD) # normal vector at the boundary (this is a 1D vector in that case)\n",
    "nΛ = get_normal_vector(Λ) # normal vector at the skeleton (this is a 1D vector in that case)\n",
    "a(u,v) = ∫( EI*(Δ(u)*Δ(v)) )dΩ +\n",
    "         ∫( EI * ( - Δ(u)*(∇(v)⋅nΓ) - (∇(u)⋅nΓ)*Δ(v) + γ/h*(∇(u)⋅nΓ)*(∇(v)⋅nΓ) ) )dΓ +\n",
    "         ∫( EI * ( - mean(Δ(u))*jump(∇(v)⋅nΛ) - jump(∇(u)⋅nΛ)*mean(Δ(v)) + γ/h*jump(∇(u)⋅nΛ)*jump(∇(v)⋅nΛ) ) )dΛ\n",
    "l(v) = ∫( -1.0*v )dΩ  # negative distributed force\n",
    "op = AffineFEOperator(a,l,U,V)  # FE operator\n",
    "uh = solve(op)\n",
    "writevtk(Ω,\"solution\",cellfields=[\"u\"=>uh])\n",
    "#end"
   ]
  },
  {
   "cell_type": "code",
   "execution_count": 2,
   "id": "a9aea920",
   "metadata": {
    "scrolled": true
   },
   "outputs": [
    {
     "data": {
      "text/plain": [
       "100-element Vector{Float64}:\n",
       " -1.0000000000051267e-10\n",
       " -2.9801000000153544e-10\n",
       " -5.920600000030658e-10\n",
       " -9.802000000051006e-10\n",
       " -1.4605000000076368e-9\n",
       " -2.0310500000106714e-9\n",
       " -2.6899600000142015e-9\n",
       " -3.435360000018224e-9\n",
       " -4.2654000000227365e-9\n",
       " -5.178250000027736e-9\n",
       " -6.172100000033217e-9\n",
       " -7.2451600000391805e-9\n",
       " -8.395660000045621e-9\n",
       "  ⋮\n",
       " -2.178186000017063e-7\n",
       " -2.2119825000174063e-7\n",
       " -2.2457890000177517e-7\n",
       " -2.2796036000180994e-7\n",
       " -2.3134246000184495e-7\n",
       " -2.347250500018802e-7\n",
       " -2.3810800000191565e-7\n",
       " -2.4149120000195134e-7\n",
       " -2.4487456000198726e-7\n",
       " -2.482580100020234e-7\n",
       " -2.516415000020597e-7\n",
       " -2.55025000002096e-7"
      ]
     },
     "execution_count": 2,
     "metadata": {},
     "output_type": "execute_result"
    }
   ],
   "source": [
    "uhdof = get_free_dof_values(uh)"
   ]
  },
  {
   "cell_type": "code",
   "execution_count": 3,
   "id": "581fbeed",
   "metadata": {},
   "outputs": [
    {
     "ename": "LoadError",
     "evalue": "UndefVarError: plot not defined",
     "output_type": "error",
     "traceback": [
      "UndefVarError: plot not defined",
      "",
      "Stacktrace:",
      " [1] top-level scope",
      "   @ In[3]:1",
      " [2] eval",
      "   @ ./boot.jl:360 [inlined]",
      " [3] include_string(mapexpr::typeof(REPL.softscope), mod::Module, code::String, filename::String)",
      "   @ Base ./loading.jl:1116"
     ]
    }
   ],
   "source": [
    "plot(uhdof,label=\"Displacement\", fmt = :png)\n",
    "xlabel!(\"x\") \n",
    "ylabel!(\"displacement\")"
   ]
  },
  {
   "cell_type": "markdown",
   "id": "d89c24de",
   "metadata": {},
   "source": [
    "## Section 3:/ Flexible Plate Models \n",
    "Using (non-)linear elasticity. \n",
    "\n",
    "- Linear elasticity tutorial in [GridAp](https://github.com/gridap/Gridap.jl): [tutorial-3](https://gridap.github.io/Tutorials/stable/pages/t003_elasticity/#Tutorial-3:-Linear-elasticity-1) \n",
    "\n",
    "- Non-Linear Elasticity Tutorial in [GridAp](https://github.com/gridap/Gridap.jl): [tutorial-5](https://gridap.github.io/Tutorials/stable/pages/t005_hyperelasticity/)\n",
    "\n",
    "- Models previously developed by XiEngineering and how to extend them. "
   ]
  },
  {
   "cell_type": "code",
   "execution_count": null,
   "id": "98cd3816",
   "metadata": {},
   "outputs": [],
   "source": []
  },
  {
   "cell_type": "markdown",
   "id": "d47164a4",
   "metadata": {},
   "source": [
    "## References "
   ]
  }
 ],
 "metadata": {
  "kernelspec": {
   "display_name": "Julia 1.6.2",
   "language": "julia",
   "name": "julia-1.6"
  },
  "language_info": {
   "file_extension": ".jl",
   "mimetype": "application/julia",
   "name": "julia",
   "version": "1.6.2"
  }
 },
 "nbformat": 4,
 "nbformat_minor": 5
}
