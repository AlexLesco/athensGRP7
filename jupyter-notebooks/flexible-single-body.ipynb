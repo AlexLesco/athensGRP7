{
 "cells": [
  {
   "cell_type": "markdown",
   "id": "b8f1b6b5",
   "metadata": {},
   "source": [
    "# Flexible Single Body Models \n",
    "\n",
    "The goal of this project is to consider flexible single body models. We assume the door to be a flexible bar (or plate) attached to the bus. We wish to take the structural properties of the door (deformation, strain and stress) into account. We assume (for simplicity) that the door is a linear (small displacement around point of equilibrium in which the door is closed) and homogeneous (constant Lame parameters or Youngs' modulus) elastic medium. We wish to compare e.g. a rigid door and flexible suspension (expect large rigid displacement of the door, recover previous cases) with a flexible door and stiff suspension (expect large deformation of the door, recover case of flexible bar attached to reference). \n",
    "\n",
    "As before, we aim at \n",
    "1. a static analysis: one is typically interested in maximal displacements and stresses. For these quantities, analytical expressions do exist for the bar [using cantilever beam example for Euler–Bernoulli beam theory](https://en.wikipedia.org/wiki/Euler–Bernoulli_beam_theory) and for the plate using the [rectangular Kirchhoff-Love plate theory](https://en.wikipedia.org/wiki/Bending_of_plates). A comparison between analytical and numerical computations in made in [this example of the GXBEAM.jl package](https://flow.byu.edu/GXBeam.jl/dev/examples/tipforce/); \n",
    "2. a transient ansalysis: In a transient analysis, some form of the wave-equation needs to be solved (vibrasting plate theory). This can be handled by DifferentialEquations.jl. \n",
    "3. an eigenmode analysis; \n",
    "4. a vibration analysis; "
   ]
  },
  {
   "cell_type": "markdown",
   "id": "5620e9ce",
   "metadata": {},
   "source": [
    "## Import Packages"
   ]
  },
  {
   "cell_type": "code",
   "execution_count": 12,
   "id": "86504036",
   "metadata": {},
   "outputs": [
    {
     "name": "stderr",
     "output_type": "stream",
     "text": [
      "WARNING: using DifferentialEquations.solve in module Main conflicts with an existing identifier.\n"
     ]
    }
   ],
   "source": [
    "using LinearAlgebra\n",
    "using DifferentialEquations\n",
    "using SparseArrays\n",
    "using Plots\n",
    "using LaTeXStrings\n",
    "using BenchmarkTools "
   ]
  },
  {
   "cell_type": "markdown",
   "id": "36335520",
   "metadata": {},
   "source": [
    "## Flexible Bar Models\n",
    "\n",
    "### Using Gridap \n",
    "\n",
    "### Alternative Tools to use \n",
    "1. [FinEtoolsFlexBeams](https://github.com/PetrKryslUCSD/FinEtoolsFlexBeamsTutorials.jl): includes vibrational analysis and assembly of beams;  \n",
    "2. [GXBEAM](https://flow.byu.edu/GXBeam.jl/dev/): implementation of Geometrically Exact Beam Theory; includes vibrational analysis and assembly of beams; \n",
    "3. [the finite element package GridAp.jl](https://github.com/gridap/Gridap.jl) allows to describe the elastic deformation of flexible bodies. "
   ]
  },
  {
   "cell_type": "code",
   "execution_count": 17,
   "id": "5f2a2bd8",
   "metadata": {},
   "outputs": [
    {
     "data": {
      "text/plain": [
       "([\"solution.vtu\"],)"
      ]
     },
     "execution_count": 17,
     "metadata": {},
     "output_type": "execute_result"
    }
   ],
   "source": [
    "# this example was provided by Oriol Colomes on the #gridal Slack channel on July 31st \n",
    "#module EB_beam # Euler-Bernouilli \n",
    "using Gridap\n",
    "# model = CartesianDiscreteModel((0,1),(10))  # Domain from 0 to 1, discretized with 10 elements\n",
    "model = CartesianDiscreteModel((0,1),(100))  # Domain from 0 to 1, discretized with 10 elements\n",
    "Ω = Interior(model) # Triangulation\n",
    "Λ = Skeleton(Ω)     # Triangulation of the skeleton (interior nodes) -> used in the CG/DG approach to enforce continuity of rotations weakly\n",
    "labels = get_face_labeling(model)\n",
    "add_tag_from_tags!(labels,\"left\",[1,])  # Tag the left end node\n",
    "add_tag_from_tags!(labels,\"right\",[2,]) # Tag the right end node (assume Free Neumann BC)\n",
    "ΓD = Boundary(Ω,tags=\"left\")\n",
    "order = 1 # order = 2 # FE polynomial degree\n",
    "refFE = ReferenceFE(lagrangian,Float64,order) # Lagrangian reference FE\n",
    "V = TestFESpace(Ω,refFE,dirichlet_tags=\"left\") # FE Space with Dirichlet BC at the left node\n",
    "U = TrialFESpace(V,0.0) # Trial FE space with 0.0 deflection value at the Dirichlet BC\n",
    "EI = 5.0e5 # Rigidity\n",
    "h = 1/100   # Element size\n",
    "γ = 1.0    # penalty constant\n",
    "dΩ = Measure(Ω,2*order) # Integration measure for Ω\n",
    "dΓ = Measure(ΓD,2*order) # Integration measure for ΓD\n",
    "dΛ = Measure(Λ,2*order) # Integration measure for Λ\n",
    "nΓ = get_normal_vector(ΓD) # normal vector at the boundary (this is a 1D vector in that case)\n",
    "nΛ = get_normal_vector(Λ) # normal vector at the skeleton (this is a 1D vector in that case)\n",
    "a(u,v) = ∫( EI*(Δ(u)*Δ(v)) )dΩ +\n",
    "         ∫( EI * ( - Δ(u)*(∇(v)⋅nΓ) - (∇(u)⋅nΓ)*Δ(v) + γ/h*(∇(u)⋅nΓ)*(∇(v)⋅nΓ) ) )dΓ +\n",
    "         ∫( EI * ( - mean(Δ(u))*jump(∇(v)⋅nΛ) - jump(∇(u)⋅nΛ)*mean(Δ(v)) + γ/h*jump(∇(u)⋅nΛ)*jump(∇(v)⋅nΛ) ) )dΛ\n",
    "l(v) = ∫( -1.0*v )dΩ  # negative distributed force\n",
    "op = AffineFEOperator(a,l,U,V)  # FE operator\n",
    "uh = solve(op)\n",
    "writevtk(Ω,\"solution\",cellfields=[\"u\"=>uh])\n",
    "#end"
   ]
  },
  {
   "cell_type": "code",
   "execution_count": 11,
   "id": "a9aea920",
   "metadata": {
    "scrolled": true
   },
   "outputs": [
    {
     "data": {
      "text/plain": [
       "100-element Vector{Float64}:\n",
       " -9.999999995781384e-10\n",
       " -2.980099998738763e-9\n",
       " -5.92059999748622e-9\n",
       " -9.801999995824858e-9\n",
       " -1.4604999993759022e-8\n",
       " -2.0310499991293066e-8\n",
       " -2.6899599988431334e-8\n",
       " -3.435359998517818e-8\n",
       " -4.2653999981537943e-8\n",
       " -5.178249997751498e-8\n",
       " -6.172099997311364e-8\n",
       " -7.245159996833826e-8\n",
       " -8.395659996319321e-8\n",
       "  ⋮\n",
       " -2.178185998821618e-6\n",
       " -2.211982498801079e-6\n",
       " -2.2457889987805094e-6\n",
       " -2.2796035987599142e-6\n",
       " -2.3134245987392982e-6\n",
       " -2.347250498718665e-6\n",
       " -2.3810799986980196e-6\n",
       " -2.414911998677366e-6\n",
       " -2.4487455986567084e-6\n",
       " -2.4825800986360504e-6\n",
       " -2.5164149986153925e-6\n",
       " -2.5502499985947345e-6"
      ]
     },
     "execution_count": 11,
     "metadata": {},
     "output_type": "execute_result"
    }
   ],
   "source": [
    "uhdof = get_free_dof_values(uh)"
   ]
  },
  {
   "cell_type": "code",
   "execution_count": 16,
   "id": "581fbeed",
   "metadata": {},
   "outputs": [
    {
     "data": {
      "image/png": "[encoded data removed]"
     },
     "execution_count": 16,
     "metadata": {},
     "output_type": "execute_result"
    }
   ],
   "source": [
    "plot(uhdof,label=\"Displacement\", fmt = :png)\n",
    "xlabel!(\"x\") \n",
    "ylabel!(\"displacement\")"
   ]
  },
  {
   "cell_type": "markdown",
   "id": "d89c24de",
   "metadata": {},
   "source": [
    "## Flexible Plate Models \n",
    "Using (non-)linear elasticity. "
   ]
  },
  {
   "cell_type": "code",
   "execution_count": 2,
   "id": "1645f0c8",
   "metadata": {},
   "outputs": [
    {
     "ename": "LoadError",
     "evalue": "SystemError: opening file \"../models/solid.json\": No such file or directory",
     "output_type": "error",
     "traceback": [
      "SystemError: opening file \"../models/solid.json\": No such file or directory",
      "",
      "Stacktrace:",
      "  [1] systemerror(p::String, errno::Int32; extrainfo::Nothing)",
      "    @ Base ./error.jl:168",
      "  [2] #systemerror#62",
      "    @ ./error.jl:167 [inlined]",
      "  [3] systemerror",
      "    @ ./error.jl:167 [inlined]",
      "  [4] open(fname::String; lock::Bool, read::Nothing, write::Nothing, create::Nothing, truncate::Nothing, append::Nothing)",
      "    @ Base ./iostream.jl:293",
      "  [5] open",
      "    @ ./iostream.jl:282 [inlined]",
      "  [6] open(f::JSON.Parser.var\"#4#5\"{DataType, DataType, Nothing, Bool, Bool, Int64}, args::String; kwargs::Base.Iterators.Pairs{Union{}, Union{}, Tuple{}, NamedTuple{(), Tuple{}}})",
      "    @ Base ./io.jl:328",
      "  [7] open(f::Function, args::String)",
      "    @ Base ./io.jl:328",
      "  [8] parsefile(filename::String; dicttype::Type, inttype::Type{Int64}, null::Nothing, allownan::Bool, use_mmap::Bool)",
      "    @ JSON.Parser ~/.julia/packages/JSON/NeJ9k/src/Parser.jl:509",
      "  [9] from_json_file(#unused#::Type{DiscreteModel}, s::String)",
      "    @ Gridap.Io ~/.julia/packages/Gridap/AsRWv/src/Io/Json.jl:15",
      " [10] DiscreteModelFromFile",
      "    @ ~/.julia/packages/Gridap/AsRWv/src/Geometry/DiscreteModels.jl:422 [inlined]",
      " [11] DiscreteModelFromFile(filename::String)",
      "    @ Gridap.Geometry ~/.julia/packages/Gridap/AsRWv/src/Geometry/DiscreteModels.jl:414",
      " [12] top-level scope",
      "    @ In[2]:2",
      " [13] eval",
      "    @ ./boot.jl:360 [inlined]",
      " [14] include_string(mapexpr::typeof(REPL.softscope), mod::Module, code::String, filename::String)",
      "    @ Base ./loading.jl:1116"
     ]
    }
   ],
   "source": [
    "using Gridap\n",
    "model = DiscreteModelFromFile(\"../models/solid.json\")"
   ]
  },
  {
   "cell_type": "code",
   "execution_count": null,
   "id": "3f023365",
   "metadata": {},
   "outputs": [],
   "source": []
  }
 ],
 "metadata": {
  "kernelspec": {
   "display_name": "Julia 1.6.2",
   "language": "julia",
   "name": "julia-1.6"
  },
  "language_info": {
   "file_extension": ".jl",
   "mimetype": "application/julia",
   "name": "julia",
   "version": "1.6.2"
  }
 },
 "nbformat": 4,
 "nbformat_minor": 5
}
